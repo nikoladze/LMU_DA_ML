{
 "cells": [
  {
   "cell_type": "markdown",
   "metadata": {
    "toc": true
   },
   "source": [
    "<h1>Table of Contents<span class=\"tocSkip\"></span></h1>\n",
    "<div class=\"toc\"><ul class=\"toc-item\"><li><span><a href=\"#SciPy\" data-toc-modified-id=\"SciPy-1\"><span class=\"toc-item-num\">1&nbsp;&nbsp;</span>SciPy</a></span><ul class=\"toc-item\"><li><span><a href=\"#Special-Function-demo\" data-toc-modified-id=\"Special-Function-demo-1.1\"><span class=\"toc-item-num\">1.1&nbsp;&nbsp;</span>Special Function demo</a></span></li><li><span><a href=\"#Solving-Differential-Equations\" data-toc-modified-id=\"Solving-Differential-Equations-1.2\"><span class=\"toc-item-num\">1.2&nbsp;&nbsp;</span>Solving Differential Equations</a></span><ul class=\"toc-item\"><li><span><a href=\"#Concrete-example-of-free-fall:\" data-toc-modified-id=\"Concrete-example-of-free-fall:-1.2.1\"><span class=\"toc-item-num\">1.2.1&nbsp;&nbsp;</span>Concrete example of free fall:</a></span></li></ul></li><li><span><a href=\"#Fitting-functions\" data-toc-modified-id=\"Fitting-functions-1.3\"><span class=\"toc-item-num\">1.3&nbsp;&nbsp;</span>Fitting functions</a></span><ul class=\"toc-item\"><li><span><a href=\"#Linear-regression\" data-toc-modified-id=\"Linear-regression-1.3.1\"><span class=\"toc-item-num\">1.3.1&nbsp;&nbsp;</span>Linear regression</a></span></li><li><span><a href=\"#Least-Square-Fit:\" data-toc-modified-id=\"Least-Square-Fit:-1.3.2\"><span class=\"toc-item-num\">1.3.2&nbsp;&nbsp;</span>Least Square Fit:</a></span><ul class=\"toc-item\"><li><span><a href=\"#Example-:-Breit-Wigner-Function-to-measured-cross-sections\" data-toc-modified-id=\"Example-:-Breit-Wigner-Function-to-measured-cross-sections-1.3.2.1\"><span class=\"toc-item-num\">1.3.2.1&nbsp;&nbsp;</span>Example : Breit-Wigner Function to measured cross-sections</a></span></li><li><span><a href=\"#Extra-material\" data-toc-modified-id=\"Extra-material-1.3.2.2\"><span class=\"toc-item-num\">1.3.2.2&nbsp;&nbsp;</span>Extra material</a></span></li></ul></li></ul></li></ul></li></ul></div>"
   ]
  },
  {
   "cell_type": "markdown",
   "metadata": {},
   "source": [
    "## SciPy\n",
    "\n",
    "`scipy` is an extension to `numpy` with many  additional libraries for numerical calculations, such as *Optimization, Numerical Integration, Statistics, etc.*\n",
    "\n",
    "Many examples how to use it are in http://scipy-cookbook.readthedocs.io/index.html\n",
    "\n",
    "In the following we will briefly discuss a few examples particularly relevant for physics: \n",
    "\n",
    "* Special Functions\n",
    "* Differential Equations\n",
    "* Regression and Fitting\n",
    "* Fourier-Transformation \n",
    "\n"
   ]
  },
  {
   "cell_type": "markdown",
   "metadata": {},
   "source": [
    "### Special Function demo"
   ]
  },
  {
   "cell_type": "code",
   "execution_count": null,
   "metadata": {},
   "outputs": [],
   "source": [
    "import numpy as np\n",
    "import scipy.special\n",
    "import matplotlib.pyplot as plt\n",
    "\n",
    "# create a figure window\n",
    "fig = plt.figure(1, figsize=(9,8))\n",
    "\n",
    "# create arrays for a few Bessel functions and plot them\n",
    "x = np.linspace(0, 20, 256)\n",
    "j0 = scipy.special.jn(0, x)\n",
    "j1 = scipy.special.jn(1, x)\n",
    "y0 = scipy.special.yn(0, x)\n",
    "y1 = scipy.special.yn(1, x)\n",
    "ax1 = fig.add_subplot(321)  # multiple plots: 3x2 , index 1\n",
    "ax1.plot(x,j0, x,j1, x,y0, x,y1)\n",
    "ax1.axhline(color=\"grey\", ls=\"--\", zorder=-1)\n",
    "ax1.set_ylim(-1,1)\n",
    "ax1.text(0.5, 0.95,'Bessel', ha='center', va='top',\n",
    "     transform = ax1.transAxes)\n",
    "\n",
    "# gamma function\n",
    "x = np.linspace(-3.5, 6., 3601)\n",
    "g = scipy.special.gamma(x)\n",
    "g = np.ma.masked_outside(g, -100, 400)\n",
    "ax2 = fig.add_subplot(322)  # multiple plots: 3x2 , index 2\n",
    "\n",
    "ax2.plot(x,g)\n",
    "ax2.set_xlim(-3.5, 6)\n",
    "ax2.axhline(color=\"grey\", ls=\"--\", zorder=-1)\n",
    "ax2.axvline(color=\"grey\", ls=\"--\", zorder=-1)\n",
    "ax2.set_ylim(-20, 100)\n",
    "ax2.text(0.5, 0.95,'Gamma', ha='center', va='top',\n",
    "     transform = ax2.transAxes)\n",
    "\n",
    "# error function\n",
    "x = np.linspace(0, 2.5, 256)\n",
    "ef = scipy.special.erf(x)\n",
    "ax3 = fig.add_subplot(323)\n",
    "ax3.plot(x,ef)\n",
    "ax3.set_ylim(0,1.1)\n",
    "ax3.text(0.5, 0.95,'Error', ha='center', va='top',\n",
    "     transform = ax3.transAxes)\n",
    "\n",
    "# Airy function\n",
    "x = np.linspace(-15, 4, 256)\n",
    "ai, aip, bi, bip = scipy.special.airy(x)\n",
    "ax4 = fig.add_subplot(324)\n",
    "ax4.plot(x,ai, x,bi)\n",
    "ax4.axhline(color=\"grey\", ls=\"--\", zorder=-1)\n",
    "ax4.axvline(color=\"grey\", ls=\"--\", zorder=-1)\n",
    "ax4.set_xlim(-15,4)\n",
    "ax4.set_ylim(-0.5,0.6)\n",
    "ax4.text(0.5, 0.95,'Airy', ha='center', va='top',\n",
    "     transform = ax4.transAxes)\n",
    "\n",
    "# Legendre polynomials\n",
    "x = np.linspace(-1, 1, 256)\n",
    "lp0 = np.polyval(scipy.special.legendre(0),x)\n",
    "lp1 = np.polyval(scipy.special.legendre(1),x)\n",
    "lp2 = np.polyval(scipy.special.legendre(2),x)\n",
    "lp3 = np.polyval(scipy.special.legendre(3),x)\n",
    "ax5 = fig.add_subplot(325)\n",
    "ax5.plot(x,lp0, x,lp1, x,lp2, x,lp3)\n",
    "ax5.axhline(color=\"grey\", ls=\"--\", zorder=-1)\n",
    "ax5.axvline(color=\"grey\", ls=\"--\", zorder=-1)\n",
    "ax5.set_ylim(-1,1.1)\n",
    "ax5.text(0.5, 0.9,'Legendre', ha='center', va='top',\n",
    "     transform = ax5.transAxes)\n",
    "\n",
    "# Laguerre polynomials\n",
    "x = np.linspace(-5, 8, 256)\n",
    "lg0 = np.polyval(scipy.special.laguerre(0),x)\n",
    "lg1 = np.polyval(scipy.special.laguerre(1),x)\n",
    "lg2 = np.polyval(scipy.special.laguerre(2),x)\n",
    "lg3 = np.polyval(scipy.special.laguerre(3),x)\n",
    "ax6 = fig.add_subplot(326)\n",
    "ax6.plot(x,lg0, x,lg1, x,lg2, x,lg3)\n",
    "ax6.axhline(color=\"grey\", ls=\"--\", zorder=-1)\n",
    "ax6.axvline(color=\"grey\", ls=\"--\", zorder=-1)\n",
    "ax6.set_xlim(-5,8)\n",
    "ax6.set_ylim(-5,10)\n",
    "ax6.text(0.5, 0.9,'Laguerre', ha='center', va='top',\n",
    "     transform = ax6.transAxes)\n",
    "plt.grid(True);"
   ]
  },
  {
   "cell_type": "markdown",
   "metadata": {},
   "source": [
    "### Solving Differential Equations\n",
    "\n",
    "Many systems in physics and science in general are described by differential equations (DE). Analytical solutions exist only for a few special cases, mostly numerical methods are necessary.\n",
    "\n",
    "SciPy provides (among others) the function `odeint` :\n",
    "\n",
    "```from scipy.integrate import odeint```\n",
    "\n",
    "`odeint` can only solve DEs of 1st order. Many problems in physics are DEs of 2nd order, e.g. the equations of motion: \n",
    "\n",
    "$$ \\frac {d^2y} {dt^2} = F(y, t)$$\n",
    "\n",
    "This can be handled with a standard trick: one can rewrite a DE 2nd order always as system of 2 coupled DEs 1st order:\n",
    "\n",
    "$$y_1 = y, \\quad y_2 = \\frac{dy_1}{dt}$$\n",
    "\n",
    "to get to two DGs 1st order:\n",
    "\n",
    "$$\\frac {dy_1} {dt} = y_2, \\quad \\frac {dy_2} {dt} = F (y_1, t)$$\n",
    "\n",
    "\n",
    "Ansatz with **`odeint`** :\n",
    "```\n",
    "y = odeint (F, y0, t)\n",
    "```\n",
    "\n",
    "Where:\n",
    "* F : A Python function `F(yi, ti)` that gets input array `yi` and scalar `ti` and returns array with the 1st derivatives. \n",
    "* y0 :  1-d array with start values \n",
    "* t : Array with t-values for which y should be calculated \n",
    "* y : result array with values y (t) \n",
    "***\n",
    "\n",
    "#### Concrete example of free fall:\n",
    "\n"
   ]
  },
  {
   "cell_type": "code",
   "execution_count": null,
   "metadata": {},
   "outputs": [],
   "source": [
    "# example for solving simple differential equation for free falling object\n",
    "# using odeint\n",
    "#\n",
    "import numpy as np\n",
    "import matplotlib.pyplot as plt\n",
    "from scipy.integrate import odeint\n",
    "\n",
    "def F(y, t):\n",
    "    \"\"\"\n",
    "    Return derivatives for 2nd order ODE y'' = g.\n",
    "    \"\"\"\n",
    "    g = 9.81            # acceleration due to gravity\n",
    "    dy = [0, 0]         # preallocate list to store derivatives\n",
    "    dy[0] = y[1]        # first derivative of y(t)\n",
    "    dy[1] = -g          # second derivative of y(t)\n",
    "#    dy[1] = -g + 0.05*y[1]**2         # second derivative of y(t) add friction term\n",
    "\n",
    "    return dy\n",
    "\n",
    "# array of time values to study\n",
    "t_min = 0; t_max = 5; dt = 0.02\n",
    "t = np.arange(t_min, t_max+dt, dt)\n",
    "\n",
    "# initial conditions\n",
    "y0 = (10.0, 0.0)\n",
    "\n",
    "# get series of points \n",
    "# y[:,0] corresponds to position (=height)\n",
    "# y[:,1] corresponds to velocity\n",
    "y = odeint(F, y0, t)\n",
    "\n",
    "# display result \n",
    "plt.figure()    # Height: Create figure; then, add plots.\n",
    "plt.plot(t, y[:, 0], linewidth=2)\n",
    "skip = 5\n",
    "t_test = t[::skip]   # compare at a subset of points\n",
    "plt.plot(t_test, y0[0]-0.5*9.81*t_test**2, 'bo') # exact solution for y0 = (10 ,0)\n",
    "\n",
    "\n",
    "plt.figure()    # Velocity Create figure; then, add plots.\n",
    "plt.plot(t, y[:, 1], linewidth=2)\n",
    "plt.plot(t_test, y0[1]-9.81*t_test, 'bo'); # exact solution for y0 = (10, 0)"
   ]
  },
  {
   "cell_type": "markdown",
   "metadata": {},
   "source": [
    "### Fitting functions\n",
    "#### Linear regression\n",
    "Frequently used procedure to fit a linear model to data, typical case is fitting a line to a set of x,y points"
   ]
  },
  {
   "cell_type": "code",
   "execution_count": null,
   "metadata": {},
   "outputs": [],
   "source": [
    "import numpy as np\n",
    "import scipy as sp\n",
    "import matplotlib.pyplot as plt"
   ]
  },
  {
   "cell_type": "markdown",
   "metadata": {},
   "source": [
    "Create some sample data points"
   ]
  },
  {
   "cell_type": "code",
   "execution_count": null,
   "metadata": {},
   "outputs": [],
   "source": [
    "# number of points \n",
    "n=50\n",
    "x=np.linspace(-5, 5, n) # array of points from -5 to 5\n",
    "# parameters\n",
    "a=0.8; b=-4\n",
    "y=np.polyval([a, b], x) # array of points from -5 to 5\n",
    "# add some noise\n",
    "yn=y+np.random.randn(n)"
   ]
  },
  {
   "cell_type": "code",
   "execution_count": null,
   "metadata": {},
   "outputs": [],
   "source": [
    "plt.plot(x, y, \"--\", label=\"original\")\n",
    "plt.plot(x, yn, \".\", label=\"noisy data\", color=\"black\")\n",
    "plt.legend();"
   ]
  },
  {
   "cell_type": "markdown",
   "metadata": {},
   "source": [
    "### 3 Paths to Linear Regression"
   ]
  },
  {
   "cell_type": "markdown",
   "metadata": {},
   "source": [
    "One way to do linear regression is using [`numpy.polyfit`](https://numpy.org/doc/stable/reference/generated/numpy.polyfit.html#numpy.polyfit) (which supports polynomials of arbitrary degree and does a least-squares polynomial fit) and fit a first degree polynomial."
   ]
  },
  {
   "cell_type": "code",
   "execution_count": null,
   "metadata": {},
   "outputs": [],
   "source": [
    "np.polyfit(x, yn, 1)"
   ]
  },
  {
   "cell_type": "code",
   "execution_count": null,
   "metadata": {},
   "outputs": [],
   "source": [
    "ar, br = np.polyfit(x, yn, 1)"
   ]
  },
  {
   "cell_type": "code",
   "execution_count": null,
   "metadata": {},
   "outputs": [],
   "source": [
    "br, ar"
   ]
  },
  {
   "cell_type": "code",
   "execution_count": null,
   "metadata": {},
   "outputs": [],
   "source": [
    "plt.plot(x, yn, \".\", label=\"noisy data\", color=\"black\")\n",
    "plt.plot(x, np.polyval([ar, br], x), label=\"numpy.polyfit\")\n",
    "plt.legend();"
   ]
  },
  {
   "cell_type": "markdown",
   "metadata": {},
   "source": [
    "Another possibility is [`scipy.stats.linregress`](https://docs.scipy.org/doc/scipy/reference/generated/scipy.stats.linregress.html) (which computes -- again -- a linear least-squares regression):"
   ]
  },
  {
   "cell_type": "code",
   "execution_count": null,
   "metadata": {},
   "outputs": [],
   "source": [
    "import scipy.stats as stats"
   ]
  },
  {
   "cell_type": "code",
   "execution_count": null,
   "metadata": {},
   "outputs": [],
   "source": [
    "result = stats.linregress(x, yn)"
   ]
  },
  {
   "cell_type": "code",
   "execution_count": null,
   "metadata": {},
   "outputs": [],
   "source": [
    "result"
   ]
  },
  {
   "cell_type": "markdown",
   "metadata": {},
   "source": [
    "#### Least Square Fit:\n",
    "\n",
    "Fitting an arbitrary (non-linear) Function to  weighted points (= measurements with uncertainties).\n",
    "\n",
    "**Basic principle:**  \n",
    "Minimize $\\chi^2$, the quadratic difference between measurement points and fit, weighted by inverse uncertainty squared:\n",
    "\n",
    "$$ \\chi^2 = \\sum \\frac{(y_{meas}-y_{fit})^2}{  ( \\Delta y )^2} $$\n",
    "\n",
    "The resulting value for $\\chi^2$ is an important check whether the fitting model is sensible (assuming normally distributed data points):\n",
    "\n",
    "$$ \\left< \\frac{\\chi^2}{  (n_{points} - n_{par} )} \\right> \\approx 1$$"
   ]
  },
  {
   "cell_type": "markdown",
   "metadata": {},
   "source": [
    "Let's first try this manually using numerical minimization from `scipy`, again for the linear regression example. We want to fit a line to our data points:"
   ]
  },
  {
   "cell_type": "code",
   "execution_count": null,
   "metadata": {},
   "outputs": [],
   "source": [
    "def line(x, params):\n",
    "    return params[0] * x + params[1]"
   ]
  },
  {
   "cell_type": "markdown",
   "metadata": {},
   "source": [
    "To fit this to the data points we want to minimize $\\chi^2$"
   ]
  },
  {
   "cell_type": "code",
   "execution_count": null,
   "metadata": {},
   "outputs": [],
   "source": [
    "def chi2(params):\n",
    "    return ((yn - line(x, params)) ** 2).sum()"
   ]
  },
  {
   "cell_type": "markdown",
   "metadata": {},
   "source": [
    "Now we minimize $\\chi^2$ as a function of the parameters using [`scipy.optimize.minimize`](https://docs.scipy.org/doc/scipy/reference/generated/scipy.optimize.minimize.html). Note that we need to pass start values for the parameters - let's use `(0, 1)` here:"
   ]
  },
  {
   "cell_type": "code",
   "execution_count": null,
   "metadata": {},
   "outputs": [],
   "source": [
    "from scipy.optimize import minimize"
   ]
  },
  {
   "cell_type": "code",
   "execution_count": null,
   "metadata": {},
   "outputs": [],
   "source": [
    "result = minimize(chi2, (0, 1))"
   ]
  },
  {
   "cell_type": "markdown",
   "metadata": {},
   "source": [
    "Note: `minimize` is a higher order function that takes a function (`chi2` in our case) as input!"
   ]
  },
  {
   "cell_type": "markdown",
   "metadata": {},
   "source": [
    "The results object contains a lot of useful information, but for now we just want the values of our parameters that minimize `chi2`"
   ]
  },
  {
   "cell_type": "code",
   "execution_count": null,
   "metadata": {},
   "outputs": [],
   "source": [
    "result.x"
   ]
  },
  {
   "cell_type": "markdown",
   "metadata": {},
   "source": [
    "##### Example : Breit-Wigner Function to measured cross-sections\n",
    "\n",
    "If you want to do a $\\chi^2$ fit, you don't need to run `minimize` manually, there is the function [`scipy.optimize.curve_fit`](https://docs.scipy.org/doc/scipy/reference/generated/scipy.optimize.curve_fit.html#scipy.optimize.curve_fit) to do that for you. Let's try this out for an example:\n",
    "\n",
    "See Praktikumsversuch Z0-Resonance, M13:\n",
    "\n",
    "  http://www-static.etp.physik.uni-muenchen.de/fp-versuch/\n",
    "  \n",
    "  \n",
    "  "
   ]
  },
  {
   "cell_type": "code",
   "execution_count": null,
   "metadata": {},
   "outputs": [],
   "source": [
    "import numpy as np\n",
    "import matplotlib.pyplot as plt\n",
    "from scipy.optimize import curve_fit\n",
    "\n",
    "\n",
    "# hadronic cross-section measurements\n",
    "# center-of-mass energy\n",
    "xv = np.array([ 88.396, 89.376, 90.234, 91.238, 92.068, 93.080, 93.912 ])\n",
    "# cross-section\n",
    "yv = np.array([  6.943, 13.183, 25.724, 40.724, 27.031, 12.273, 6.980 ])\n",
    "# cross-section uncertainty\n",
    "ey = np.array([  0.087, 0.119, 0.178, 0.087, 0.159, 0.095, 0.064 ])"
   ]
  },
  {
   "cell_type": "code",
   "execution_count": null,
   "metadata": {},
   "outputs": [],
   "source": [
    "plt.errorbar(xv, yv, yerr=ey, fmt=\"ko\");"
   ]
  },
  {
   "cell_type": "code",
   "execution_count": null,
   "metadata": {},
   "outputs": [],
   "source": [
    "def BreitWig( x, m, g, spk ): \n",
    "    \" Breit-Wigner function\"\n",
    "    mw2 = m * m\n",
    "    gw2 = g * g\n",
    "    eb2 = x * x\n",
    "    return( spk * gw2*mw2 / ( ( eb2 - mw2 )**2  + mw2 * gw2 ))"
   ]
  },
  {
   "cell_type": "markdown",
   "metadata": {},
   "source": [
    "Useful start values are rather easy to guess since the parameters correspond to the Mass (position of the peak), the decay width and the height of the peak:"
   ]
  },
  {
   "cell_type": "code",
   "execution_count": null,
   "metadata": {},
   "outputs": [],
   "source": [
    "pinit = np.array([ 91., 2., 40.])"
   ]
  },
  {
   "cell_type": "code",
   "execution_count": null,
   "metadata": {},
   "outputs": [],
   "source": [
    "plt.errorbar(xv, yv, yerr=ey, fmt=\"ko\")\n",
    "x = np.linspace( 88., 94.5, 500)\n",
    "plt.plot(x, BreitWig(x, *pinit));"
   ]
  },
  {
   "cell_type": "markdown",
   "metadata": {},
   "source": [
    "This time we also pass the errors on our datapoints to be taken into account in the $\\chi^2$ calculation:"
   ]
  },
  {
   "cell_type": "code",
   "execution_count": null,
   "metadata": {},
   "outputs": [],
   "source": [
    "pfit, cov = curve_fit(BreitWig, xv, yv, pinit, ey)"
   ]
  },
  {
   "cell_type": "code",
   "execution_count": null,
   "metadata": {},
   "outputs": [],
   "source": [
    "plt.errorbar(xv, yv, yerr=ey, fmt=\"ko\", label=\"data\")\n",
    "x = np.linspace( 88., 94.5, 500)\n",
    "plt.plot(x, BreitWig(x, *pfit), label=\"fit\")\n",
    "plt.legend();"
   ]
  },
  {
   "cell_type": "code",
   "execution_count": null,
   "metadata": {},
   "outputs": [],
   "source": [
    "print ('Fit-result :', pfit)\n",
    "print ('Cov-Matrix :\\n', cov)"
   ]
  },
  {
   "cell_type": "markdown",
   "metadata": {},
   "source": [
    "The errors on the fit parameters can be read of the diagonal of the covariance matrix (we would need the other coefficients if we were to propagate uncertainties on values that depend on multiple parameters, e.g. the function value):"
   ]
  },
  {
   "cell_type": "code",
   "execution_count": null,
   "metadata": {},
   "outputs": [],
   "source": [
    "parnames = ['MZ','GZ','SPeak']\n",
    "for i in range(3):\n",
    "    print(\n",
    "        \"%6s: %7.4f +-  %7.4f \" % (\n",
    "            parnames[i], pfit[i], np.sqrt(cov[i][i])\n",
    "        )\n",
    "    )"
   ]
  },
  {
   "cell_type": "markdown",
   "metadata": {},
   "source": [
    "Let's also calculate $\\chi^2$ and the number of degrees of freedom to get an idea of the fit quality:"
   ]
  },
  {
   "cell_type": "code",
   "execution_count": null,
   "metadata": {},
   "outputs": [],
   "source": [
    "r = (yv - BreitWig(xv, *pfit))\n",
    "chi2 = np.sum(r**2 / ey**2)\n",
    "ndf = len(xv) - len(pfit)\n",
    "print(\"Chi2, ndf, Chi2/ndf:  %7.1f, %4d, %7.1f\" % (chi2,4,chi2/4)) "
   ]
  },
  {
   "cell_type": "markdown",
   "metadata": {},
   "source": [
    "##### Extra material"
   ]
  },
  {
   "cell_type": "markdown",
   "metadata": {},
   "source": [
    "###### more sophisticated plot\n",
    "* upper plot values and fitted curve\n",
    "* lower plot residuals"
   ]
  },
  {
   "cell_type": "code",
   "execution_count": null,
   "metadata": {},
   "outputs": [],
   "source": [
    "fig = plt.figure()\n",
    "ax1 = fig.add_axes([0.1, 0.29, 0.8, 0.7],xlim=(88,94.5),xticklabels=[],ylim=(0,45))\n",
    "ax2 = fig.add_axes([0.1, 0.0, 0.8, 0.28],xlim=(88,94.5))# ylim=(-3, 3))\n",
    "\n",
    "ax1.errorbar(xv, yv, yerr=ey, fmt='ko',label=\"data\")\n",
    "bins = np.linspace( 88., 94.5, 500)\n",
    "ax1.plot(bins,BreitWig(bins,pfit[0],pfit[1],pfit[2]),'r-',lw=2,label=\"fit\")\n",
    "ax1.grid(True)\n",
    "#\n",
    "# residuals\n",
    "r = (yv - BreitWig(xv,pfit[0],pfit[1],pfit[2]))\n",
    "ymax = 1.5*np.max(np.abs(r))\n",
    "ax2.set_ylim(-ymax,ymax)\n",
    "ax2.errorbar(xv, r, yerr=ey, fmt='ko');\n",
    "ax2.grid(True)"
   ]
  },
  {
   "cell_type": "markdown",
   "metadata": {},
   "source": [
    "###### Example Exponential-Function to a Histogram"
   ]
  },
  {
   "cell_type": "code",
   "execution_count": null,
   "metadata": {},
   "outputs": [],
   "source": [
    "import numpy as np\n",
    "import matplotlib.pyplot as plt\n",
    "from scipy.optimize import curve_fit\n",
    "# Generate data\n",
    "\n",
    "n = 200\n",
    "isi = np.random.exponential(0.1 , size=n)\n",
    "db = 0.02\n",
    "bins = np.arange(0 ,1.0, db)\n",
    "h = np.histogram(isi, bins)[0]\n",
    "eh = np.sqrt(h) # stat error\n",
    "#\n",
    "# Function to fit\n",
    "# x - independent variable\n",
    "# p0, p1 - parameters\n",
    "fitfunc = lambda x, p0, p1 : p1 * np.exp (- x /p0 ) \n",
    "\n",
    "# Initial values for fit parameters\n",
    "pinit = np.array([ 0.5, 10. ])\n",
    "# Hist count less than 4 has poor estimate of the weight\n",
    "# don't use in the fitting process\n",
    "idx = np.nonzero(h>4)\n",
    "\n",
    "out,cov=curve_fit(fitfunc,bins[idx]+db/2, h[idx], pinit, eh[idx])\n",
    "#print ('Fit-result :', out)\n",
    "parnames = ['Slope','Height']\n",
    "for i in range(2):\n",
    "    print (\"%6s: %7.4f +-  %7.4f \" % ( parnames[i], out[i], \n",
    "                                      np.sqrt(cov[i][i])))\n",
    "\n",
    "l1='data'\n",
    "\n",
    "#pl.errorbar(bins[idx],h[idx],yerr=eh[idx],fmt='ko',label=l1)\n",
    "plt.errorbar(bins[:-1]+db/2,h,yerr=eh,fmt='k.',label=l1)\n",
    "plt.hist(isi, bins,alpha=0.3)\n",
    "\n",
    "l2='fit'\n",
    "plt.plot(bins,fitfunc(bins,out[0],out[1]),'r-',lw=2,label=l2)\n",
    "\n",
    "plt.legend()\n",
    "plt.yscale('log')\n"
   ]
  },
  {
   "cell_type": "markdown",
   "metadata": {},
   "source": [
    "### Fourier Transformation\n",
    "`scipy.fftpack` is an easy tool to do Fourier Transformation. Below an illustrative example using sum of sin values.\n"
   ]
  },
  {
   "cell_type": "code",
   "execution_count": null,
   "metadata": {},
   "outputs": [],
   "source": [
    "import scipy as sp\n",
    "import numpy as np\n",
    "import matplotlib.pyplot as plt\n",
    "import scipy.fftpack as fftp\n",
    "# set plot size\n",
    "plt.figure(figsize=(10,10))\n",
    "# Number of samplepoints\n",
    "N = 400\n",
    "\n",
    "# Sample spacing\n",
    "T = 1.0 / 800.0\n",
    "x = np.linspace(0.0, N*T, N)\n",
    "# add sin values for different frequencies\n",
    "y = np.sin(45.0 * 2.0*np.pi*x) + 0.8*np.cos(62.0 * 2.0*np.pi*x) \\\n",
    "    + 0.5*np.sin(77.0 * 2.0*np.pi*x) + 0.3*np.sin(98.0 * 2.0*np.pi*x)\n",
    "\n",
    "# fourier transform\n",
    "yf = fftp.fft(y)\n",
    "\n",
    "# get frequencies\n",
    "xf = fftp.fftfreq(N,T)\n",
    "\n",
    "# plot signla\n",
    "plt.subplot(2, 1, 1)\n",
    "plt.plot(x,y)\n",
    "plt.grid()\n",
    "\n",
    "# plot fft\n",
    "plt.subplot(2, 1, 2)\n",
    "plt.plot(xf[:N//2], 2/N * np.abs(yf[:N//2]))\n",
    "plt.grid()\n",
    "_=plt.axis([20,120,0,1.2])\n"
   ]
  },
  {
   "cell_type": "code",
   "execution_count": null,
   "metadata": {},
   "outputs": [],
   "source": []
  }
 ],
 "metadata": {
  "@webio": {
   "lastCommId": null,
   "lastKernelId": null
  },
  "anaconda-cloud": {},
  "kernelspec": {
   "display_name": "Python 3 (ipykernel)",
   "language": "python",
   "name": "python3"
  },
  "language_info": {
   "codemirror_mode": {
    "name": "ipython",
    "version": 3
   },
   "file_extension": ".py",
   "mimetype": "text/x-python",
   "name": "python",
   "nbconvert_exporter": "python",
   "pygments_lexer": "ipython3",
   "version": "3.8.10"
  },
  "toc": {
   "base_numbering": 1,
   "nav_menu": {},
   "number_sections": true,
   "sideBar": true,
   "skip_h1_title": false,
   "title_cell": "Table of Contents",
   "title_sidebar": "Contents",
   "toc_cell": true,
   "toc_position": {},
   "toc_section_display": true,
   "toc_window_display": false
  }
 },
 "nbformat": 4,
 "nbformat_minor": 1
}
