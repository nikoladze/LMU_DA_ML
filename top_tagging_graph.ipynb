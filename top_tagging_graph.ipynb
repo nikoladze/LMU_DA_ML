{
 "cells": [
  {
   "cell_type": "code",
   "execution_count": null,
   "id": "e7171bb7-f25e-488c-b25a-04f1039475b6",
   "metadata": {},
   "outputs": [],
   "source": [
    "from course_settings import set_tf_nthreads\n",
    "set_tf_nthreads(4)"
   ]
  },
  {
   "cell_type": "code",
   "execution_count": null,
   "id": "2ff2cbd4-ffc4-4f0f-bd2a-2440beb9d787",
   "metadata": {},
   "outputs": [],
   "source": [
    "import pandas as pd\n",
    "import numpy as np\n",
    "import matplotlib.pyplot as plt\n",
    "import tensorflow as tf"
   ]
  },
  {
   "cell_type": "code",
   "execution_count": null,
   "id": "44832853-0f3d-4e8b-bc79-e43c56622c38",
   "metadata": {},
   "outputs": [],
   "source": [
    "df = pd.read_hdf(\"/home/nikolai/data/TopTagingML/train.h5\", \"table\", stop=100000)"
   ]
  },
  {
   "cell_type": "code",
   "execution_count": null,
   "id": "e1401b1b-5d7f-4428-b831-cdf03353fe14",
   "metadata": {},
   "outputs": [],
   "source": [
    "len(df)"
   ]
  },
  {
   "cell_type": "code",
   "execution_count": null,
   "id": "9223f43d-bce8-4391-bca1-0addc2461f38",
   "metadata": {},
   "outputs": [],
   "source": [
    "jet_4mom = df.loc[:, :\"PZ_199\"].to_numpy().reshape(-1, 200, 4)"
   ]
  },
  {
   "cell_type": "code",
   "execution_count": null,
   "id": "e8a56660-b887-4256-b156-103d143abf1e",
   "metadata": {},
   "outputs": [],
   "source": [
    "nconst = (jet_4mom != 0).all(axis=2).sum(axis=1)"
   ]
  },
  {
   "cell_type": "code",
   "execution_count": null,
   "id": "2839b1ff-189e-43d3-b9a7-27919bdf0706",
   "metadata": {},
   "outputs": [],
   "source": [
    "y = df.is_signal_new.to_numpy()"
   ]
  },
  {
   "cell_type": "code",
   "execution_count": null,
   "id": "c3c2dedd-e077-4667-bb9e-c5fcdb571516",
   "metadata": {},
   "outputs": [],
   "source": [
    "y[:100]"
   ]
  },
  {
   "cell_type": "code",
   "execution_count": null,
   "id": "b714fd80-9082-4bc5-84e9-d782b3d8a6ec",
   "metadata": {},
   "outputs": [],
   "source": [
    "jet_3mom = jet_4mom[:, :, 1:]"
   ]
  },
  {
   "cell_type": "code",
   "execution_count": null,
   "id": "9f40f5d6-090a-49dd-889a-c7118fa82182",
   "metadata": {},
   "outputs": [],
   "source": [
    "jn = jet_3mom / np.sqrt((jet_3mom ** 2).sum(axis=-1))[:, :, np.newaxis]\n",
    "jn = np.nan_to_num(jn, 0)"
   ]
  },
  {
   "cell_type": "code",
   "execution_count": null,
   "id": "714a1f8d-36ee-468b-a975-6e9bb9b0a9e5",
   "metadata": {},
   "outputs": [],
   "source": [
    "~(jn[:, 150:151] == 0).all(axis=-1)"
   ]
  },
  {
   "cell_type": "code",
   "execution_count": null,
   "id": "2834a635-e3b2-408d-a97e-233d37279af0",
   "metadata": {},
   "outputs": [],
   "source": [
    "x = tf.zeros((3, 3))"
   ]
  },
  {
   "cell_type": "code",
   "execution_count": null,
   "id": "fb1b2587-7bbf-44f8-b511-f9bbd3e2c662",
   "metadata": {},
   "outputs": [],
   "source": [
    "tf.reshape(tf.range(3), (-1, 1)) == [0, 1]"
   ]
  },
  {
   "cell_type": "code",
   "execution_count": null,
   "id": "db55d8dd-9c6c-4b16-98be-184937f2d0eb",
   "metadata": {},
   "outputs": [],
   "source": [
    "tf.reduce_any(tf.range(3) == [[0], [1]], axis=0)"
   ]
  },
  {
   "cell_type": "code",
   "execution_count": null,
   "id": "cc75bb7c-3429-4766-8b69-c6fdbe292fa1",
   "metadata": {},
   "outputs": [],
   "source": [
    "def get_adjacency(jet_4mom, K=7):\n",
    "    jet_3mom = jet_4mom[:, :, 1:]\n",
    "    jet_norm = jet_3mom / np.sqrt((jet_3mom ** 2).sum(axis=-1))[:, :, np.newaxis]\n",
    "    jet_norm = np.nan_to_num(jet_norm, 0)\n",
    "    max_npart = jet_4mom.shape[1]\n",
    "    adj = np.zeros((len(jet_4mom), max_npart, max_npart), dtype=np.uint8)\n",
    "    for i in range(max_npart):\n",
    "        mask = ~(jet_norm[:, i: i+1] == 0).all(axis=-1).ravel()\n",
    "        cosine_distances = (jet_norm[:, i: i+1] * jet_norm[:, :]).sum(axis=2)\n",
    "        neighbor_indices = np.argsort(cosine_distances, axis=1)[:, -(K + 1):]\n",
    "        event_indices = np.arange(len(adj))[:, np.newaxis]\n",
    "        adj[event_indices[mask], i, neighbor_indices[mask]] = 1\n",
    "    return adj"
   ]
  },
  {
   "cell_type": "code",
   "execution_count": null,
   "id": "2b18a32a-bd32-4ae5-8796-d3c356bd6b56",
   "metadata": {},
   "outputs": [],
   "source": [
    "%load_ext line_profiler"
   ]
  },
  {
   "cell_type": "code",
   "execution_count": null,
   "id": "c675909d-3144-4c01-aa22-9dfa66e078a6",
   "metadata": {},
   "outputs": [],
   "source": [
    "%lprun -f get_adjacency get_adjacency(jet_4mom[:1000])"
   ]
  },
  {
   "cell_type": "code",
   "execution_count": null,
   "id": "520c60f9-0e18-4acf-a560-aaa8f26e7c0d",
   "metadata": {},
   "outputs": [],
   "source": [
    "def get_adjacency_indices(jet_4mom, K=7):\n",
    "    jet_3mom = jet_4mom[:, :, 1:]\n",
    "    jet_norm = jet_3mom / np.sqrt((jet_3mom ** 2).sum(axis=-1))[:, :, np.newaxis]\n",
    "    jet_norm = np.nan_to_num(jet_norm, 0)\n",
    "    max_npart = jet_4mom.shape[1]\n",
    "    adj = np.zeros((len(jet_4mom), max_npart, max_npart), dtype=np.uint8)\n",
    "    all_event_indices = []\n",
    "    all_neighbor_indices = []\n",
    "    all_mask = []\n",
    "    for i in range(max_npart):\n",
    "        mask = ~(jet_norm[:, i: i+1] == 0).all(axis=-1).ravel()\n",
    "        cosine_distances = (jet_norm[:, i: i+1] * jet_norm[:, :]).sum(axis=2)\n",
    "        neighbor_indices = np.argsort(cosine_distances, axis=1)[:, -(K + 1):]\n",
    "        event_indices = np.arange(len(adj))[:, np.newaxis]\n",
    "        #adj[event_indices[mask], i, neighbor_indices[mask]] = 1\n",
    "        all_event_indices.append(event_indices)\n",
    "        all_neighbor_indices.append(neighbor_indices)\n",
    "        all_mask.append(mask)\n",
    "    return all_event_indices, all_neighbor_indices, all_mask"
   ]
  },
  {
   "cell_type": "code",
   "execution_count": null,
   "id": "0db65636-9db1-4baf-b0d6-faaf5ca6d067",
   "metadata": {},
   "outputs": [],
   "source": [
    "adj = get_adjacency(jet_4mom)"
   ]
  },
  {
   "cell_type": "code",
   "execution_count": null,
   "id": "813ba577-299d-4a40-b73f-200a991ec46b",
   "metadata": {},
   "outputs": [],
   "source": [
    "adj.shape"
   ]
  },
  {
   "cell_type": "code",
   "execution_count": null,
   "id": "fef58de1-8ded-4791-a410-7ba23ff6a0ef",
   "metadata": {},
   "outputs": [],
   "source": [
    "i = 20\n",
    "plt.imshow(adj[i, :nconst[i], :nconst[i]])"
   ]
  },
  {
   "cell_type": "code",
   "execution_count": null,
   "id": "3d958a84-3e2b-4f93-a850-c794b569eb27",
   "metadata": {},
   "outputs": [],
   "source": [
    "class SimpleGCN(tf.keras.layers.Layer):\n",
    "    \"\"\"\n",
    "    Simple graph convolution. Should be equivalent to Kipf & Welling (https://arxiv.org/abs/1609.02907)\n",
    "    when fed a normalized adjacency matrix.\n",
    "    \"\"\"\n",
    "\n",
    "    def __init__(self, units, activation=\"relu\"):\n",
    "        super().__init__()\n",
    "        self.dense = tf.keras.layers.Dense(units)\n",
    "        self.activation = tf.keras.activations.get(activation)\n",
    "\n",
    "    def call(self, inputs):\n",
    "        feat, adjacency = inputs\n",
    "        return self.activation(tf.matmul(adjacency, self.dense(feat)))"
   ]
  },
  {
   "cell_type": "code",
   "execution_count": null,
   "id": "0b3db92a-960a-427c-9316-231654a85a49",
   "metadata": {},
   "outputs": [],
   "source": [
    "from tensorflow.keras import layers\n",
    "def get_model(units=128, num_nodes=200, num_features=4):\n",
    "    adjacency_input = layers.Input(shape=(num_nodes, num_nodes), name='x_adjacency')\n",
    "    feature_input = layers.Input(shape=(num_nodes, num_features), name='x_feature')\n",
    "\n",
    "    # constituent-level transformations\n",
    "    p = feature_input\n",
    "    for i in range(3):\n",
    "        p = layers.Dense(units, activation=\"relu\")(p)\n",
    "\n",
    "    for i in range(3):\n",
    "        p = SimpleGCN(units, activation=\"relu\")([p, adjacency_input])\n",
    "\n",
    "    x = layers.GlobalAveragePooling1D()(p)\n",
    "\n",
    "    # event-level transformations\n",
    "    for i in range(3):\n",
    "        x = layers.Dense(units, activation=\"relu\")(x)\n",
    "\n",
    "    output = layers.Dense(1, activation=\"sigmoid\")(x)\n",
    "\n",
    "    return tf.keras.models.Model(\n",
    "        inputs=[adjacency_input, feature_input],\n",
    "        outputs=[output]\n",
    "    )"
   ]
  },
  {
   "cell_type": "code",
   "execution_count": null,
   "id": "be83541f-a52e-4508-a1b4-50990bb2e2c7",
   "metadata": {},
   "outputs": [],
   "source": [
    "model = get_model()"
   ]
  },
  {
   "cell_type": "code",
   "execution_count": null,
   "id": "3f39ac9e-d064-4593-99c2-f3829dbd7ed1",
   "metadata": {},
   "outputs": [],
   "source": [
    "# tf bug?\n",
    "#model.predict({\"x_feature\": jet_4mom, \"x_adjacency\": adj}, batch_size=100)"
   ]
  },
  {
   "cell_type": "code",
   "execution_count": null,
   "id": "e4a25516-a52b-4746-b6ea-c156a7d03702",
   "metadata": {},
   "outputs": [],
   "source": [
    "def generate_batches(batch_size=100, shuffle=True, slicer=None):\n",
    "    x_feat = jet_4mom / 200\n",
    "    x_adj = adj\n",
    "    label = y\n",
    "    if slicer is not None:\n",
    "        x_feat= x_feat[slicer]\n",
    "        x_adj = x_adj[slicer]\n",
    "        label = label[slicer]\n",
    "    while True:\n",
    "        if shuffle:\n",
    "            permutation = np.random.permutation(len(x_feat))\n",
    "        for start in range(0, len(x_feat), batch_size):\n",
    "            stop = start + batch_size\n",
    "            if shuffle:\n",
    "                idx = permutation[start: stop]\n",
    "            else:\n",
    "                idx = slice(start, stop)\n",
    "            yield (\n",
    "                {\"x_feature\": x_feat[idx], \"x_adjacency\": x_adj[idx]},\n",
    "                label[idx]\n",
    "            )"
   ]
  },
  {
   "cell_type": "code",
   "execution_count": null,
   "id": "ed42b86a-33b4-47c0-a5c8-406432942581",
   "metadata": {},
   "outputs": [],
   "source": [
    "model.compile(loss=\"binary_crossentropy\", optimizer=\"Adam\")"
   ]
  },
  {
   "cell_type": "code",
   "execution_count": null,
   "id": "c13306d1-b9b8-4697-9a06-e3dbb6f23325",
   "metadata": {},
   "outputs": [],
   "source": [
    "model.fit(\n",
    "    generate_batches(batch_size=100, slicer=slice(None, 90000)),\n",
    "    steps_per_epoch=1000,\n",
    "    validation_data=generate_batches(batch_size=100, slicer=slice(90000, None)),\n",
    "    validation_steps=100,\n",
    "    epochs=10,\n",
    ")"
   ]
  },
  {
   "cell_type": "code",
   "execution_count": null,
   "id": "92945ded-06f2-4639-a98b-400a2760dd0c",
   "metadata": {},
   "outputs": [],
   "source": [
    "y_pred = model.predict(generate_batches(100, shuffle=False), verbose=True, steps=1000)"
   ]
  },
  {
   "cell_type": "code",
   "execution_count": null,
   "id": "9c8af2ad-45dc-42c0-988b-b0e631408294",
   "metadata": {},
   "outputs": [],
   "source": [
    "from sklearn.metrics import roc_curve"
   ]
  },
  {
   "cell_type": "code",
   "execution_count": null,
   "id": "34cec9c2-6dc6-47c1-bee2-710962a887ef",
   "metadata": {},
   "outputs": [],
   "source": [
    "y_test = y"
   ]
  },
  {
   "cell_type": "code",
   "execution_count": null,
   "id": "d766c68e-c36a-4aca-ab8b-74a8e1341a69",
   "metadata": {},
   "outputs": [],
   "source": [
    "opt=dict(bins=100, range=(0, 1), alpha=0.5, density=True)\n",
    "plt.hist(y_pred[y_test==0], label=\"QCD\", **opt)\n",
    "plt.hist(y_pred[y_test==1], label=\"Top Quark\", **opt)\n",
    "plt.yscale(\"log\")\n",
    "plt.xlabel(\"Pred. Top quark probability\")\n",
    "plt.legend();"
   ]
  },
  {
   "cell_type": "code",
   "execution_count": null,
   "id": "81f9e0db-8917-4c01-b1b8-c65ec5e9dbac",
   "metadata": {},
   "outputs": [],
   "source": [
    "fpr, tpr, thr = roc_curve(y, y_pred)"
   ]
  },
  {
   "cell_type": "code",
   "execution_count": null,
   "id": "7d87ff74-9ab1-4413-a864-94092b39cce1",
   "metadata": {},
   "outputs": [],
   "source": [
    "plt.plot(fpr, tpr)"
   ]
  },
  {
   "cell_type": "code",
   "execution_count": null,
   "id": "e1192e70-3f07-4094-a190-3d180e4a599f",
   "metadata": {},
   "outputs": [],
   "source": [
    "plt.plot(tpr, 1. / fpr)\n",
    "plt.ylabel(\"QCD jet rejection\")\n",
    "plt.xlabel(\"Top quark jet efficiency\")\n",
    "plt.yscale(\"log\")"
   ]
  },
  {
   "cell_type": "code",
   "execution_count": null,
   "id": "85dd40e2-2e68-48cf-abbc-1d6724aa5a4a",
   "metadata": {},
   "outputs": [],
   "source": [
    "np.max(tpr[fpr < 0.001])"
   ]
  }
 ],
 "metadata": {
  "kernelspec": {
   "display_name": "Python 3 (ipykernel)",
   "language": "python",
   "name": "python3"
  },
  "language_info": {
   "codemirror_mode": {
    "name": "ipython",
    "version": 3
   },
   "file_extension": ".py",
   "mimetype": "text/x-python",
   "name": "python",
   "nbconvert_exporter": "python",
   "pygments_lexer": "ipython3",
   "version": "3.7.0"
  }
 },
 "nbformat": 4,
 "nbformat_minor": 5
}